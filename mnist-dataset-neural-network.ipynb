{
 "cells": [
  {
   "cell_type": "code",
   "execution_count": 1,
   "id": "01df6978",
   "metadata": {
    "_cell_guid": "b1076dfc-b9ad-4769-8c92-a6c4dae69d19",
    "_uuid": "8f2839f25d086af736a60e9eeb907d3b93b6e0e5",
    "execution": {
     "iopub.execute_input": "2024-04-08T10:35:45.214944Z",
     "iopub.status.busy": "2024-04-08T10:35:45.213650Z",
     "iopub.status.idle": "2024-04-08T10:35:50.461161Z",
     "shell.execute_reply": "2024-04-08T10:35:50.459280Z"
    },
    "papermill": {
     "duration": 5.256241,
     "end_time": "2024-04-08T10:35:50.464208",
     "exception": false,
     "start_time": "2024-04-08T10:35:45.207967",
     "status": "completed"
    },
    "tags": []
   },
   "outputs": [],
   "source": [
    "import numpy as np\n",
    "import pandas as pd\n",
    "from matplotlib import pyplot as plt\n",
    "\n",
    "data = pd.read_csv('/kaggle/input/digit-recognizer/train.csv')"
   ]
  },
  {
   "cell_type": "code",
   "execution_count": 2,
   "id": "6bfe286f",
   "metadata": {
    "execution": {
     "iopub.execute_input": "2024-04-08T10:35:50.474544Z",
     "iopub.status.busy": "2024-04-08T10:35:50.474023Z",
     "iopub.status.idle": "2024-04-08T10:35:51.686715Z",
     "shell.execute_reply": "2024-04-08T10:35:51.684820Z"
    },
    "papermill": {
     "duration": 1.222702,
     "end_time": "2024-04-08T10:35:51.691438",
     "exception": false,
     "start_time": "2024-04-08T10:35:50.468736",
     "status": "completed"
    },
    "tags": []
   },
   "outputs": [],
   "source": [
    "data = np.array(data)\n",
    "m, n = data.shape\n",
    "np.random.shuffle(data) \n",
    "\n",
    "data_dev = data[0:1000].T\n",
    "Y_dev = data_dev[0]\n",
    "X_dev = data_dev[1:n]\n",
    "X_dev = X_dev / 255.\n",
    "\n",
    "data_train = data[1000:m].T\n",
    "Y_train = data_train[0]\n",
    "X_train = data_train[1:n]\n",
    "X_train = X_train / 255.\n",
    "_,m_train = X_train.shape"
   ]
  },
  {
   "cell_type": "code",
   "execution_count": 3,
   "id": "d75ed468",
   "metadata": {
    "execution": {
     "iopub.execute_input": "2024-04-08T10:35:51.703457Z",
     "iopub.status.busy": "2024-04-08T10:35:51.702995Z",
     "iopub.status.idle": "2024-04-08T10:35:51.717500Z",
     "shell.execute_reply": "2024-04-08T10:35:51.716406Z"
    },
    "papermill": {
     "duration": 0.024239,
     "end_time": "2024-04-08T10:35:51.720789",
     "exception": false,
     "start_time": "2024-04-08T10:35:51.696550",
     "status": "completed"
    },
    "tags": []
   },
   "outputs": [
    {
     "data": {
      "text/plain": [
       "array([0, 0, 1, ..., 6, 1, 9])"
      ]
     },
     "execution_count": 3,
     "metadata": {},
     "output_type": "execute_result"
    }
   ],
   "source": [
    "Y_train"
   ]
  },
  {
   "cell_type": "code",
   "execution_count": 4,
   "id": "b302d48b",
   "metadata": {
    "execution": {
     "iopub.execute_input": "2024-04-08T10:35:51.733205Z",
     "iopub.status.busy": "2024-04-08T10:35:51.732440Z",
     "iopub.status.idle": "2024-04-08T10:35:51.747523Z",
     "shell.execute_reply": "2024-04-08T10:35:51.745909Z"
    },
    "papermill": {
     "duration": 0.025501,
     "end_time": "2024-04-08T10:35:51.751038",
     "exception": false,
     "start_time": "2024-04-08T10:35:51.725537",
     "status": "completed"
    },
    "tags": []
   },
   "outputs": [],
   "source": [
    "def init_params():\n",
    "    W1 = np.random.rand(10, 784) - 0.5\n",
    "    b1 = np.random.rand(10, 1) - 0.5\n",
    "    W2 = np.random.rand(10, 10) - 0.5\n",
    "    b2 = np.random.rand(10, 1) - 0.5\n",
    "    return W1, b1, W2, b2\n",
    "\n",
    "def ReLU(Z):\n",
    "    return np.maximum(Z, 0)\n",
    "\n",
    "def softmax(Z):\n",
    "    A = np.exp(Z) / sum(np.exp(Z))\n",
    "    return A\n",
    "    \n",
    "def forward_prop(W1, b1, W2, b2, X):\n",
    "    Z1 = W1.dot(X) + b1\n",
    "    A1 = ReLU(Z1)\n",
    "    Z2 = W2.dot(A1) + b2\n",
    "    A2 = softmax(Z2)\n",
    "    return Z1, A1, Z2, A2\n",
    "\n",
    "def ReLU_deriv(Z):\n",
    "    return Z > 0\n",
    "\n",
    "def one_hot(Y):\n",
    "    one_hot_Y = np.zeros((Y.size, Y.max() + 1))\n",
    "    one_hot_Y[np.arange(Y.size), Y] = 1\n",
    "    one_hot_Y = one_hot_Y.T\n",
    "    return one_hot_Y\n",
    "\n",
    "def backward_prop(Z1, A1, Z2, A2, W1, W2, X, Y):\n",
    "    one_hot_Y = one_hot(Y)\n",
    "    dZ2 = A2 - one_hot_Y\n",
    "    dW2 = 1 / m * dZ2.dot(A1.T)\n",
    "    db2 = 1 / m * np.sum(dZ2)\n",
    "    dZ1 = W2.T.dot(dZ2) * ReLU_deriv(Z1)\n",
    "    dW1 = 1 / m * dZ1.dot(X.T)\n",
    "    db1 = 1 / m * np.sum(dZ1)\n",
    "    return dW1, db1, dW2, db2\n",
    "\n",
    "def update_params(W1, b1, W2, b2, dW1, db1, dW2, db2, alpha):\n",
    "    W1 = W1 - alpha * dW1\n",
    "    b1 = b1 - alpha * db1    \n",
    "    W2 = W2 - alpha * dW2  \n",
    "    b2 = b2 - alpha * db2    \n",
    "    return W1, b1, W2, b2"
   ]
  },
  {
   "cell_type": "code",
   "execution_count": 5,
   "id": "30e03d4e",
   "metadata": {
    "execution": {
     "iopub.execute_input": "2024-04-08T10:35:51.760599Z",
     "iopub.status.busy": "2024-04-08T10:35:51.760196Z",
     "iopub.status.idle": "2024-04-08T10:35:51.769137Z",
     "shell.execute_reply": "2024-04-08T10:35:51.767392Z"
    },
    "papermill": {
     "duration": 0.01721,
     "end_time": "2024-04-08T10:35:51.772151",
     "exception": false,
     "start_time": "2024-04-08T10:35:51.754941",
     "status": "completed"
    },
    "tags": []
   },
   "outputs": [],
   "source": [
    "def get_predictions(A2):\n",
    "    return np.argmax(A2, 0)\n",
    "\n",
    "def get_accuracy(predictions, Y):\n",
    "    print(predictions, Y)\n",
    "    return np.sum(predictions == Y) / Y.size\n",
    "\n",
    "def gradient_descent(X, Y, alpha, iterations):\n",
    "    W1, b1, W2, b2 = init_params()\n",
    "    for i in range(iterations):\n",
    "        Z1, A1, Z2, A2 = forward_prop(W1, b1, W2, b2, X)\n",
    "        dW1, db1, dW2, db2 = backward_prop(Z1, A1, Z2, A2, W1, W2, X, Y)\n",
    "        W1, b1, W2, b2 = update_params(W1, b1, W2, b2, dW1, db1, dW2, db2, alpha)\n",
    "        if i % 10 == 0:\n",
    "            print(\"Iteration: \", i)\n",
    "            predictions = get_predictions(A2)\n",
    "            print(get_accuracy(predictions, Y))\n",
    "    return W1, b1, W2, b2"
   ]
  },
  {
   "cell_type": "code",
   "execution_count": 6,
   "id": "53f31927",
   "metadata": {
    "execution": {
     "iopub.execute_input": "2024-04-08T10:35:51.781954Z",
     "iopub.status.busy": "2024-04-08T10:35:51.781055Z",
     "iopub.status.idle": "2024-04-08T10:36:57.288761Z",
     "shell.execute_reply": "2024-04-08T10:36:57.287017Z"
    },
    "papermill": {
     "duration": 65.51722,
     "end_time": "2024-04-08T10:36:57.293477",
     "exception": false,
     "start_time": "2024-04-08T10:35:51.776257",
     "status": "completed"
    },
    "tags": []
   },
   "outputs": [
    {
     "name": "stdout",
     "output_type": "stream",
     "text": [
      "Iteration:  0\n",
      "[3 3 7 ... 7 7 3] [0 0 1 ... 6 1 9]\n",
      "0.12092682926829268\n",
      "Iteration:  10\n",
      "[0 0 8 ... 0 8 2] [0 0 1 ... 6 1 9]\n",
      "0.23473170731707316\n",
      "Iteration:  20\n",
      "[0 0 1 ... 0 1 2] [0 0 1 ... 6 1 9]\n",
      "0.3424146341463415\n",
      "Iteration:  30\n",
      "[0 0 1 ... 0 1 2] [0 0 1 ... 6 1 9]\n",
      "0.39563414634146343\n",
      "Iteration:  40\n",
      "[0 0 1 ... 6 1 4] [0 0 1 ... 6 1 9]\n",
      "0.4423170731707317\n",
      "Iteration:  50\n",
      "[0 0 1 ... 6 1 4] [0 0 1 ... 6 1 9]\n",
      "0.48160975609756096\n",
      "Iteration:  60\n",
      "[0 0 1 ... 6 1 4] [0 0 1 ... 6 1 9]\n",
      "0.5145121951219512\n",
      "Iteration:  70\n",
      "[0 0 1 ... 6 1 4] [0 0 1 ... 6 1 9]\n",
      "0.5437804878048781\n",
      "Iteration:  80\n",
      "[0 0 1 ... 6 1 4] [0 0 1 ... 6 1 9]\n",
      "0.568390243902439\n",
      "Iteration:  90\n",
      "[0 0 1 ... 6 1 4] [0 0 1 ... 6 1 9]\n",
      "0.5918292682926829\n",
      "Iteration:  100\n",
      "[0 0 1 ... 6 1 4] [0 0 1 ... 6 1 9]\n",
      "0.6133658536585366\n",
      "Iteration:  110\n",
      "[0 0 1 ... 6 1 4] [0 0 1 ... 6 1 9]\n",
      "0.6349512195121951\n",
      "Iteration:  120\n",
      "[0 0 1 ... 6 1 4] [0 0 1 ... 6 1 9]\n",
      "0.6530731707317073\n",
      "Iteration:  130\n",
      "[0 0 1 ... 6 1 4] [0 0 1 ... 6 1 9]\n",
      "0.669609756097561\n",
      "Iteration:  140\n",
      "[0 0 1 ... 6 1 4] [0 0 1 ... 6 1 9]\n",
      "0.6843658536585366\n",
      "Iteration:  150\n",
      "[0 0 1 ... 6 1 9] [0 0 1 ... 6 1 9]\n",
      "0.6989024390243902\n",
      "Iteration:  160\n",
      "[0 0 1 ... 6 1 9] [0 0 1 ... 6 1 9]\n",
      "0.7104390243902439\n",
      "Iteration:  170\n",
      "[0 0 1 ... 6 1 9] [0 0 1 ... 6 1 9]\n",
      "0.7218048780487805\n",
      "Iteration:  180\n",
      "[0 0 1 ... 6 1 9] [0 0 1 ... 6 1 9]\n",
      "0.7317560975609756\n",
      "Iteration:  190\n",
      "[0 0 1 ... 6 1 9] [0 0 1 ... 6 1 9]\n",
      "0.7423658536585366\n",
      "Iteration:  200\n",
      "[0 0 1 ... 6 1 9] [0 0 1 ... 6 1 9]\n",
      "0.7504878048780488\n",
      "Iteration:  210\n",
      "[0 0 1 ... 6 1 9] [0 0 1 ... 6 1 9]\n",
      "0.7585121951219512\n",
      "Iteration:  220\n",
      "[0 0 1 ... 6 1 9] [0 0 1 ... 6 1 9]\n",
      "0.7648780487804878\n",
      "Iteration:  230\n",
      "[0 0 1 ... 6 1 9] [0 0 1 ... 6 1 9]\n",
      "0.7710975609756098\n",
      "Iteration:  240\n",
      "[0 0 1 ... 6 1 9] [0 0 1 ... 6 1 9]\n",
      "0.7768048780487805\n",
      "Iteration:  250\n",
      "[0 0 1 ... 6 1 9] [0 0 1 ... 6 1 9]\n",
      "0.7817317073170732\n",
      "Iteration:  260\n",
      "[0 0 1 ... 6 1 9] [0 0 1 ... 6 1 9]\n",
      "0.7869512195121952\n",
      "Iteration:  270\n",
      "[0 0 1 ... 6 1 9] [0 0 1 ... 6 1 9]\n",
      "0.7913902439024391\n",
      "Iteration:  280\n",
      "[0 0 1 ... 6 1 9] [0 0 1 ... 6 1 9]\n",
      "0.7954634146341464\n",
      "Iteration:  290\n",
      "[0 0 1 ... 6 1 9] [0 0 1 ... 6 1 9]\n",
      "0.7997560975609757\n",
      "Iteration:  300\n",
      "[0 0 1 ... 6 1 9] [0 0 1 ... 6 1 9]\n",
      "0.8039024390243903\n",
      "Iteration:  310\n",
      "[0 0 1 ... 6 1 9] [0 0 1 ... 6 1 9]\n",
      "0.807829268292683\n",
      "Iteration:  320\n",
      "[0 0 1 ... 6 1 9] [0 0 1 ... 6 1 9]\n",
      "0.8112439024390244\n",
      "Iteration:  330\n",
      "[0 0 1 ... 6 1 9] [0 0 1 ... 6 1 9]\n",
      "0.8144878048780487\n",
      "Iteration:  340\n",
      "[0 0 1 ... 6 1 9] [0 0 1 ... 6 1 9]\n",
      "0.8170731707317073\n",
      "Iteration:  350\n",
      "[0 0 1 ... 6 1 9] [0 0 1 ... 6 1 9]\n",
      "0.8190975609756097\n",
      "Iteration:  360\n",
      "[0 0 1 ... 6 1 9] [0 0 1 ... 6 1 9]\n",
      "0.8216829268292682\n",
      "Iteration:  370\n",
      "[0 0 1 ... 6 1 9] [0 0 1 ... 6 1 9]\n",
      "0.823780487804878\n",
      "Iteration:  380\n",
      "[0 0 1 ... 6 1 9] [0 0 1 ... 6 1 9]\n",
      "0.8256585365853658\n",
      "Iteration:  390\n",
      "[0 0 1 ... 6 1 9] [0 0 1 ... 6 1 9]\n",
      "0.8278780487804878\n",
      "Iteration:  400\n",
      "[0 0 1 ... 6 1 9] [0 0 1 ... 6 1 9]\n",
      "0.829780487804878\n",
      "Iteration:  410\n",
      "[0 0 1 ... 6 1 9] [0 0 1 ... 6 1 9]\n",
      "0.8319512195121951\n",
      "Iteration:  420\n",
      "[0 0 1 ... 6 1 9] [0 0 1 ... 6 1 9]\n",
      "0.8335609756097561\n",
      "Iteration:  430\n",
      "[0 0 1 ... 6 1 9] [0 0 1 ... 6 1 9]\n",
      "0.8350731707317073\n",
      "Iteration:  440\n",
      "[0 0 1 ... 6 1 9] [0 0 1 ... 6 1 9]\n",
      "0.836390243902439\n",
      "Iteration:  450\n",
      "[0 0 1 ... 6 1 9] [0 0 1 ... 6 1 9]\n",
      "0.838\n",
      "Iteration:  460\n",
      "[0 0 1 ... 6 1 9] [0 0 1 ... 6 1 9]\n",
      "0.8392682926829268\n",
      "Iteration:  470\n",
      "[0 0 1 ... 6 1 9] [0 0 1 ... 6 1 9]\n",
      "0.8408536585365853\n",
      "Iteration:  480\n",
      "[0 0 1 ... 6 1 9] [0 0 1 ... 6 1 9]\n",
      "0.8422439024390244\n",
      "Iteration:  490\n",
      "[0 0 1 ... 6 1 9] [0 0 1 ... 6 1 9]\n",
      "0.8434878048780488\n"
     ]
    }
   ],
   "source": [
    "W1, b1, W2, b2 = gradient_descent(X_train, Y_train, 0.10, 500)"
   ]
  },
  {
   "cell_type": "code",
   "execution_count": 7,
   "id": "c90e949d",
   "metadata": {
    "execution": {
     "iopub.execute_input": "2024-04-08T10:36:57.320517Z",
     "iopub.status.busy": "2024-04-08T10:36:57.319905Z",
     "iopub.status.idle": "2024-04-08T10:36:57.334443Z",
     "shell.execute_reply": "2024-04-08T10:36:57.333161Z"
    },
    "papermill": {
     "duration": 0.032608,
     "end_time": "2024-04-08T10:36:57.338273",
     "exception": false,
     "start_time": "2024-04-08T10:36:57.305665",
     "status": "completed"
    },
    "tags": []
   },
   "outputs": [],
   "source": [
    "def make_predictions(X, W1, b1, W2, b2):\n",
    "    _, _, _, A2 = forward_prop(W1, b1, W2, b2, X)\n",
    "    predictions = get_predictions(A2)\n",
    "    return predictions \n",
    "def test_prediction(index, W1, b1, W2, b2):\n",
    "    current_image = X_train[:, index, None]\n",
    "    prediction = make_predictions(X_train[:, index, None], W1, b1, W2, b2)\n",
    "    label = Y_train[index]\n",
    "    print(\"Prediction: \", prediction)\n",
    "    print(\"Label: \", label)\n",
    "    \n",
    "    current_image = current_image.reshape((28, 28)) * 255\n",
    "    plt.gray()\n",
    "    plt.imshow(current_image, interpolation='nearest')\n",
    "    plt.show()"
   ]
  },
  {
   "cell_type": "code",
   "execution_count": 8,
   "id": "98f65d54",
   "metadata": {
    "execution": {
     "iopub.execute_input": "2024-04-08T10:36:57.363059Z",
     "iopub.status.busy": "2024-04-08T10:36:57.362462Z",
     "iopub.status.idle": "2024-04-08T10:36:57.631221Z",
     "shell.execute_reply": "2024-04-08T10:36:57.629773Z"
    },
    "papermill": {
     "duration": 0.284177,
     "end_time": "2024-04-08T10:36:57.634204",
     "exception": false,
     "start_time": "2024-04-08T10:36:57.350027",
     "status": "completed"
    },
    "tags": []
   },
   "outputs": [
    {
     "name": "stdout",
     "output_type": "stream",
     "text": [
      "Prediction:  [9]\n",
      "Label:  9\n"
     ]
    },
    {
     "data": {
      "image/png": "[encoded data removed]",
      "text/plain": [
       "<Figure size 640x480 with 1 Axes>"
      ]
     },
     "metadata": {},
     "output_type": "display_data"
    }
   ],
   "source": [
    "test_prediction(3, W1, b1, W2, b2)"
   ]
  }
 ],
 "metadata": {
  "kaggle": {
   "accelerator": "none",
   "dataSources": [
    {
     "databundleVersionId": 861823,
     "sourceId": 3004,
     "sourceType": "competition"
    }
   ],
   "dockerImageVersionId": 30673,
   "isGpuEnabled": false,
   "isInternetEnabled": false,
   "language": "python",
   "sourceType": "notebook"
  },
  "kernelspec": {
   "display_name": "Python 3",
   "language": "python",
   "name": "python3"
  },
  "language_info": {
   "codemirror_mode": {
    "name": "ipython",
    "version": 3
   },
   "file_extension": ".py",
   "mimetype": "text/x-python",
   "name": "python",
   "nbconvert_exporter": "python",
   "pygments_lexer": "ipython3",
   "version": "3.10.13"
  },
  "papermill": {
   "default_parameters": {},
   "duration": 76.197297,
   "end_time": "2024-04-08T10:36:58.165575",
   "environment_variables": {},
   "exception": null,
   "input_path": "__notebook__.ipynb",
   "output_path": "__notebook__.ipynb",
   "parameters": {},
   "start_time": "2024-04-08T10:35:41.968278",
   "version": "2.5.0"
  }
 },
 "nbformat": 4,
 "nbformat_minor": 5
}
